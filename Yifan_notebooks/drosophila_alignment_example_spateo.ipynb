{
 "cells": [
  {
   "cell_type": "markdown",
   "metadata": {},
   "source": [
    "## Drosophila Examples for Pairwise Alignment"
   ]
  },
  {
   "cell_type": "code",
   "execution_count": 1,
   "metadata": {},
   "outputs": [
    {
     "name": "stderr",
     "output_type": "stream",
     "text": [
      "OMP: Info #276: omp_set_nested routine deprecated, please use omp_set_max_active_levels instead.\n"
     ]
    }
   ],
   "source": [
    "import os\n",
    "os.environ['CUDA_VISIBLE_DEVICES'] = '2'\n",
    "import sys\n",
    "sys.path.insert(0,'../')\n",
    "import morpho\n",
    "import matplotlib.pyplot as plt\n",
    "import scanpy\n",
    "import anndata\n",
    "import numpy as np\n",
    "from jupyterthemes import jtplot\n",
    "jtplot.style(theme=\"onedork\")\n",
    "import spateo as st\n",
    "import warnings\n",
    "warnings.simplefilter(action='ignore', category=FutureWarning)\n",
    "slice_colors = ['#e41a1c','#377eb8','#4daf4a','#984ea3']\n",
    "%load_ext autoreload\n",
    "%autoreload 2"
   ]
  },
  {
   "cell_type": "code",
   "execution_count": 4,
   "metadata": {},
   "outputs": [
    {
     "name": "stdout",
     "output_type": "stream",
     "text": [
      "|-----> Downloading data to ./data/E7-9h_cellbin_tdr_v2.h5ad\n",
      "https://www.dropbox.com/s/bvstb3en5kc6wui/E7-9h_cellbin_tdr_v2.h5ad?dl=1\n"
     ]
    },
    {
     "ename": "KeyboardInterrupt",
     "evalue": "",
     "output_type": "error",
     "traceback": [
      "\u001b[0;31m---------------------------------------------------------------------------\u001b[0m",
      "\u001b[0;31mKeyboardInterrupt\u001b[0m                         Traceback (most recent call last)",
      "\u001b[1;32m/data/lyf/BiologyProgram/morpho/examples/drosophila_alignment_example_spateo.ipynb Cell 3\u001b[0m in \u001b[0;36m<cell line: 2>\u001b[0;34m()\u001b[0m\n\u001b[1;32m      <a href='vscode-notebook-cell://ssh-remote%2Btimer/data/lyf/BiologyProgram/morpho/examples/drosophila_alignment_example_spateo.ipynb#X52sdnNjb2RlLXJlbW90ZQ%3D%3D?line=0'>1</a>\u001b[0m \u001b[39m# cellbin data\u001b[39;00m\n\u001b[0;32m----> <a href='vscode-notebook-cell://ssh-remote%2Btimer/data/lyf/BiologyProgram/morpho/examples/drosophila_alignment_example_spateo.ipynb#X52sdnNjb2RlLXJlbW90ZQ%3D%3D?line=1'>2</a>\u001b[0m cellbin_slices \u001b[39m=\u001b[39m st\u001b[39m.\u001b[39;49msample_data\u001b[39m.\u001b[39;49mdrosophila()\n",
      "File \u001b[0;32m~/anaconda3/envs/lyf_Bio/lib/python3.8/site-packages/spateo/sample_data.py:100\u001b[0m, in \u001b[0;36mdrosophila\u001b[0;34m(filename, dir_name)\u001b[0m\n\u001b[1;32m     87\u001b[0m url_dict \u001b[39m=\u001b[39m {\n\u001b[1;32m     88\u001b[0m     \u001b[39m\"\u001b[39m\u001b[39mE7-9h_cellbin_tdr_v1.h5ad\u001b[39m\u001b[39m\"\u001b[39m: \u001b[39m\"\u001b[39m\u001b[39mhttps://www.dropbox.com/s/ow8xkge0538309a/E7-9h_cellbin_tdr_v1.h5ad?dl=1\u001b[39m\u001b[39m\"\u001b[39m,\n\u001b[1;32m     89\u001b[0m     \u001b[39m\"\u001b[39m\u001b[39mE7-9h_cellbin_tdr_v2.h5ad\u001b[39m\u001b[39m\"\u001b[39m: \u001b[39m\"\u001b[39m\u001b[39mhttps://www.dropbox.com/s/bvstb3en5kc6wui/E7-9h_cellbin_tdr_v2.h5ad?dl=1\u001b[39m\u001b[39m\"\u001b[39m,\n\u001b[0;32m   (...)\u001b[0m\n\u001b[1;32m     97\u001b[0m     \u001b[39m\"\u001b[39m\u001b[39mE9-10h_cellbin_tdr_v2_CNS.h5ad\u001b[39m\u001b[39m\"\u001b[39m: \u001b[39m\"\u001b[39m\u001b[39mhttps://www.dropbox.com/s/a7bllwm760dmda6/E9-10h_cellbin_tdr_v2_CNS.h5ad?dl=1\u001b[39m\u001b[39m\"\u001b[39m,\n\u001b[1;32m     98\u001b[0m }\n\u001b[1;32m     99\u001b[0m \u001b[39mif\u001b[39;00m filename\u001b[39m.\u001b[39mendswith(\u001b[39m\"\u001b[39m\u001b[39m.h5ad\u001b[39m\u001b[39m\"\u001b[39m) \u001b[39mor\u001b[39;00m filename\u001b[39m.\u001b[39mendswith(\u001b[39m\"\u001b[39m\u001b[39m.loom\u001b[39m\u001b[39m\"\u001b[39m):\n\u001b[0;32m--> 100\u001b[0m     adata \u001b[39m=\u001b[39m get_adata(url\u001b[39m=\u001b[39;49murl_dict[filename], filename\u001b[39m=\u001b[39;49mfilename, dir_name\u001b[39m=\u001b[39;49mdir_name)\n\u001b[1;32m    101\u001b[0m     \u001b[39mreturn\u001b[39;00m adata\n\u001b[1;32m    102\u001b[0m \u001b[39melif\u001b[39;00m filename\u001b[39m.\u001b[39mendswith(\u001b[39m\"\u001b[39m\u001b[39m.zip\u001b[39m\u001b[39m\"\u001b[39m):\n",
      "File \u001b[0;32m~/anaconda3/envs/lyf_Bio/lib/python3.8/site-packages/spateo/sample_data.py:53\u001b[0m, in \u001b[0;36mget_adata\u001b[0;34m(url, filename, dir_name)\u001b[0m\n\u001b[1;32m     40\u001b[0m \u001b[39mdef\u001b[39;00m \u001b[39mget_adata\u001b[39m(url: \u001b[39mstr\u001b[39m, filename: Optional[\u001b[39mstr\u001b[39m] \u001b[39m=\u001b[39m \u001b[39mNone\u001b[39;00m, dir_name: \u001b[39mstr\u001b[39m \u001b[39m=\u001b[39m \u001b[39m\"\u001b[39m\u001b[39m./data\u001b[39m\u001b[39m\"\u001b[39m) \u001b[39m-\u001b[39m\u001b[39m>\u001b[39m AnnData:\n\u001b[1;32m     41\u001b[0m     \u001b[39m\"\"\"Download example data to local folder.\u001b[39;00m\n\u001b[1;32m     42\u001b[0m \n\u001b[1;32m     43\u001b[0m \u001b[39m    Args:\u001b[39;00m\n\u001b[0;32m   (...)\u001b[0m\n\u001b[1;32m     50\u001b[0m \u001b[39m            an Annodata object.\u001b[39;00m\n\u001b[1;32m     51\u001b[0m \u001b[39m    \"\"\"\u001b[39;00m\n\u001b[0;32m---> 53\u001b[0m     file_path \u001b[39m=\u001b[39m download_data(url\u001b[39m=\u001b[39;49murl, file_path\u001b[39m=\u001b[39;49mfilename, dir_name\u001b[39m=\u001b[39;49mdir_name)\n\u001b[1;32m     54\u001b[0m     \u001b[39mif\u001b[39;00m Path(file_path)\u001b[39m.\u001b[39msuffixes[\u001b[39m-\u001b[39m\u001b[39m1\u001b[39m][\u001b[39m1\u001b[39m:] \u001b[39m==\u001b[39m \u001b[39m\"\u001b[39m\u001b[39mloom\u001b[39m\u001b[39m\"\u001b[39m:\n\u001b[1;32m     55\u001b[0m         adata \u001b[39m=\u001b[39m read_loom(filename\u001b[39m=\u001b[39mfile_path)\n",
      "File \u001b[0;32m~/anaconda3/envs/lyf_Bio/lib/python3.8/site-packages/spateo/sample_data.py:35\u001b[0m, in \u001b[0;36mdownload_data\u001b[0;34m(url, file_path, dir_name)\u001b[0m\n\u001b[1;32m     33\u001b[0m     \u001b[39m# download the data\u001b[39;00m\n\u001b[1;32m     34\u001b[0m     \u001b[39mprint\u001b[39m(url)\n\u001b[0;32m---> 35\u001b[0m     urlretrieve(url, file_path, reporthook\u001b[39m=\u001b[39;49mlm\u001b[39m.\u001b[39;49mget_main_logger()\u001b[39m.\u001b[39;49mrequest_report_hook)\n\u001b[1;32m     37\u001b[0m \u001b[39mreturn\u001b[39;00m file_path\n",
      "File \u001b[0;32m~/anaconda3/envs/lyf_Bio/lib/python3.8/urllib/request.py:247\u001b[0m, in \u001b[0;36murlretrieve\u001b[0;34m(url, filename, reporthook, data)\u001b[0m\n\u001b[1;32m    230\u001b[0m \u001b[39m\"\"\"\u001b[39;00m\n\u001b[1;32m    231\u001b[0m \u001b[39mRetrieve a URL into a temporary location on disk.\u001b[39;00m\n\u001b[1;32m    232\u001b[0m \n\u001b[0;32m   (...)\u001b[0m\n\u001b[1;32m    243\u001b[0m \u001b[39mdata file as well as the resulting HTTPMessage object.\u001b[39;00m\n\u001b[1;32m    244\u001b[0m \u001b[39m\"\"\"\u001b[39;00m\n\u001b[1;32m    245\u001b[0m url_type, path \u001b[39m=\u001b[39m _splittype(url)\n\u001b[0;32m--> 247\u001b[0m \u001b[39mwith\u001b[39;00m contextlib\u001b[39m.\u001b[39mclosing(urlopen(url, data)) \u001b[39mas\u001b[39;00m fp:\n\u001b[1;32m    248\u001b[0m     headers \u001b[39m=\u001b[39m fp\u001b[39m.\u001b[39minfo()\n\u001b[1;32m    250\u001b[0m     \u001b[39m# Just return the local path and the \"headers\" for file://\u001b[39;00m\n\u001b[1;32m    251\u001b[0m     \u001b[39m# URLs. No sense in performing a copy unless requested.\u001b[39;00m\n",
      "File \u001b[0;32m~/anaconda3/envs/lyf_Bio/lib/python3.8/urllib/request.py:222\u001b[0m, in \u001b[0;36murlopen\u001b[0;34m(url, data, timeout, cafile, capath, cadefault, context)\u001b[0m\n\u001b[1;32m    220\u001b[0m \u001b[39melse\u001b[39;00m:\n\u001b[1;32m    221\u001b[0m     opener \u001b[39m=\u001b[39m _opener\n\u001b[0;32m--> 222\u001b[0m \u001b[39mreturn\u001b[39;00m opener\u001b[39m.\u001b[39;49mopen(url, data, timeout)\n",
      "File \u001b[0;32m~/anaconda3/envs/lyf_Bio/lib/python3.8/urllib/request.py:525\u001b[0m, in \u001b[0;36mOpenerDirector.open\u001b[0;34m(self, fullurl, data, timeout)\u001b[0m\n\u001b[1;32m    522\u001b[0m     req \u001b[39m=\u001b[39m meth(req)\n\u001b[1;32m    524\u001b[0m sys\u001b[39m.\u001b[39maudit(\u001b[39m'\u001b[39m\u001b[39murllib.Request\u001b[39m\u001b[39m'\u001b[39m, req\u001b[39m.\u001b[39mfull_url, req\u001b[39m.\u001b[39mdata, req\u001b[39m.\u001b[39mheaders, req\u001b[39m.\u001b[39mget_method())\n\u001b[0;32m--> 525\u001b[0m response \u001b[39m=\u001b[39m \u001b[39mself\u001b[39;49m\u001b[39m.\u001b[39;49m_open(req, data)\n\u001b[1;32m    527\u001b[0m \u001b[39m# post-process response\u001b[39;00m\n\u001b[1;32m    528\u001b[0m meth_name \u001b[39m=\u001b[39m protocol\u001b[39m+\u001b[39m\u001b[39m\"\u001b[39m\u001b[39m_response\u001b[39m\u001b[39m\"\u001b[39m\n",
      "File \u001b[0;32m~/anaconda3/envs/lyf_Bio/lib/python3.8/urllib/request.py:542\u001b[0m, in \u001b[0;36mOpenerDirector._open\u001b[0;34m(self, req, data)\u001b[0m\n\u001b[1;32m    539\u001b[0m     \u001b[39mreturn\u001b[39;00m result\n\u001b[1;32m    541\u001b[0m protocol \u001b[39m=\u001b[39m req\u001b[39m.\u001b[39mtype\n\u001b[0;32m--> 542\u001b[0m result \u001b[39m=\u001b[39m \u001b[39mself\u001b[39;49m\u001b[39m.\u001b[39;49m_call_chain(\u001b[39mself\u001b[39;49m\u001b[39m.\u001b[39;49mhandle_open, protocol, protocol \u001b[39m+\u001b[39;49m\n\u001b[1;32m    543\u001b[0m                           \u001b[39m'\u001b[39;49m\u001b[39m_open\u001b[39;49m\u001b[39m'\u001b[39;49m, req)\n\u001b[1;32m    544\u001b[0m \u001b[39mif\u001b[39;00m result:\n\u001b[1;32m    545\u001b[0m     \u001b[39mreturn\u001b[39;00m result\n",
      "File \u001b[0;32m~/anaconda3/envs/lyf_Bio/lib/python3.8/urllib/request.py:502\u001b[0m, in \u001b[0;36mOpenerDirector._call_chain\u001b[0;34m(self, chain, kind, meth_name, *args)\u001b[0m\n\u001b[1;32m    500\u001b[0m \u001b[39mfor\u001b[39;00m handler \u001b[39min\u001b[39;00m handlers:\n\u001b[1;32m    501\u001b[0m     func \u001b[39m=\u001b[39m \u001b[39mgetattr\u001b[39m(handler, meth_name)\n\u001b[0;32m--> 502\u001b[0m     result \u001b[39m=\u001b[39m func(\u001b[39m*\u001b[39;49margs)\n\u001b[1;32m    503\u001b[0m     \u001b[39mif\u001b[39;00m result \u001b[39mis\u001b[39;00m \u001b[39mnot\u001b[39;00m \u001b[39mNone\u001b[39;00m:\n\u001b[1;32m    504\u001b[0m         \u001b[39mreturn\u001b[39;00m result\n",
      "File \u001b[0;32m~/anaconda3/envs/lyf_Bio/lib/python3.8/urllib/request.py:1397\u001b[0m, in \u001b[0;36mHTTPSHandler.https_open\u001b[0;34m(self, req)\u001b[0m\n\u001b[1;32m   1396\u001b[0m \u001b[39mdef\u001b[39;00m \u001b[39mhttps_open\u001b[39m(\u001b[39mself\u001b[39m, req):\n\u001b[0;32m-> 1397\u001b[0m     \u001b[39mreturn\u001b[39;00m \u001b[39mself\u001b[39;49m\u001b[39m.\u001b[39;49mdo_open(http\u001b[39m.\u001b[39;49mclient\u001b[39m.\u001b[39;49mHTTPSConnection, req,\n\u001b[1;32m   1398\u001b[0m         context\u001b[39m=\u001b[39;49m\u001b[39mself\u001b[39;49m\u001b[39m.\u001b[39;49m_context, check_hostname\u001b[39m=\u001b[39;49m\u001b[39mself\u001b[39;49m\u001b[39m.\u001b[39;49m_check_hostname)\n",
      "File \u001b[0;32m~/anaconda3/envs/lyf_Bio/lib/python3.8/urllib/request.py:1354\u001b[0m, in \u001b[0;36mAbstractHTTPHandler.do_open\u001b[0;34m(self, http_class, req, **http_conn_args)\u001b[0m\n\u001b[1;32m   1352\u001b[0m \u001b[39mtry\u001b[39;00m:\n\u001b[1;32m   1353\u001b[0m     \u001b[39mtry\u001b[39;00m:\n\u001b[0;32m-> 1354\u001b[0m         h\u001b[39m.\u001b[39;49mrequest(req\u001b[39m.\u001b[39;49mget_method(), req\u001b[39m.\u001b[39;49mselector, req\u001b[39m.\u001b[39;49mdata, headers,\n\u001b[1;32m   1355\u001b[0m                   encode_chunked\u001b[39m=\u001b[39;49mreq\u001b[39m.\u001b[39;49mhas_header(\u001b[39m'\u001b[39;49m\u001b[39mTransfer-encoding\u001b[39;49m\u001b[39m'\u001b[39;49m))\n\u001b[1;32m   1356\u001b[0m     \u001b[39mexcept\u001b[39;00m \u001b[39mOSError\u001b[39;00m \u001b[39mas\u001b[39;00m err: \u001b[39m# timeout error\u001b[39;00m\n\u001b[1;32m   1357\u001b[0m         \u001b[39mraise\u001b[39;00m URLError(err)\n",
      "File \u001b[0;32m~/anaconda3/envs/lyf_Bio/lib/python3.8/http/client.py:1256\u001b[0m, in \u001b[0;36mHTTPConnection.request\u001b[0;34m(self, method, url, body, headers, encode_chunked)\u001b[0m\n\u001b[1;32m   1253\u001b[0m \u001b[39mdef\u001b[39;00m \u001b[39mrequest\u001b[39m(\u001b[39mself\u001b[39m, method, url, body\u001b[39m=\u001b[39m\u001b[39mNone\u001b[39;00m, headers\u001b[39m=\u001b[39m{}, \u001b[39m*\u001b[39m,\n\u001b[1;32m   1254\u001b[0m             encode_chunked\u001b[39m=\u001b[39m\u001b[39mFalse\u001b[39;00m):\n\u001b[1;32m   1255\u001b[0m     \u001b[39m\"\"\"Send a complete request to the server.\"\"\"\u001b[39;00m\n\u001b[0;32m-> 1256\u001b[0m     \u001b[39mself\u001b[39;49m\u001b[39m.\u001b[39;49m_send_request(method, url, body, headers, encode_chunked)\n",
      "File \u001b[0;32m~/anaconda3/envs/lyf_Bio/lib/python3.8/http/client.py:1302\u001b[0m, in \u001b[0;36mHTTPConnection._send_request\u001b[0;34m(self, method, url, body, headers, encode_chunked)\u001b[0m\n\u001b[1;32m   1298\u001b[0m \u001b[39mif\u001b[39;00m \u001b[39misinstance\u001b[39m(body, \u001b[39mstr\u001b[39m):\n\u001b[1;32m   1299\u001b[0m     \u001b[39m# RFC 2616 Section 3.7.1 says that text default has a\u001b[39;00m\n\u001b[1;32m   1300\u001b[0m     \u001b[39m# default charset of iso-8859-1.\u001b[39;00m\n\u001b[1;32m   1301\u001b[0m     body \u001b[39m=\u001b[39m _encode(body, \u001b[39m'\u001b[39m\u001b[39mbody\u001b[39m\u001b[39m'\u001b[39m)\n\u001b[0;32m-> 1302\u001b[0m \u001b[39mself\u001b[39;49m\u001b[39m.\u001b[39;49mendheaders(body, encode_chunked\u001b[39m=\u001b[39;49mencode_chunked)\n",
      "File \u001b[0;32m~/anaconda3/envs/lyf_Bio/lib/python3.8/http/client.py:1251\u001b[0m, in \u001b[0;36mHTTPConnection.endheaders\u001b[0;34m(self, message_body, encode_chunked)\u001b[0m\n\u001b[1;32m   1249\u001b[0m \u001b[39melse\u001b[39;00m:\n\u001b[1;32m   1250\u001b[0m     \u001b[39mraise\u001b[39;00m CannotSendHeader()\n\u001b[0;32m-> 1251\u001b[0m \u001b[39mself\u001b[39;49m\u001b[39m.\u001b[39;49m_send_output(message_body, encode_chunked\u001b[39m=\u001b[39;49mencode_chunked)\n",
      "File \u001b[0;32m~/anaconda3/envs/lyf_Bio/lib/python3.8/http/client.py:1011\u001b[0m, in \u001b[0;36mHTTPConnection._send_output\u001b[0;34m(self, message_body, encode_chunked)\u001b[0m\n\u001b[1;32m   1009\u001b[0m msg \u001b[39m=\u001b[39m \u001b[39mb\u001b[39m\u001b[39m\"\u001b[39m\u001b[39m\\r\u001b[39;00m\u001b[39m\\n\u001b[39;00m\u001b[39m\"\u001b[39m\u001b[39m.\u001b[39mjoin(\u001b[39mself\u001b[39m\u001b[39m.\u001b[39m_buffer)\n\u001b[1;32m   1010\u001b[0m \u001b[39mdel\u001b[39;00m \u001b[39mself\u001b[39m\u001b[39m.\u001b[39m_buffer[:]\n\u001b[0;32m-> 1011\u001b[0m \u001b[39mself\u001b[39;49m\u001b[39m.\u001b[39;49msend(msg)\n\u001b[1;32m   1013\u001b[0m \u001b[39mif\u001b[39;00m message_body \u001b[39mis\u001b[39;00m \u001b[39mnot\u001b[39;00m \u001b[39mNone\u001b[39;00m:\n\u001b[1;32m   1014\u001b[0m \n\u001b[1;32m   1015\u001b[0m     \u001b[39m# create a consistent interface to message_body\u001b[39;00m\n\u001b[1;32m   1016\u001b[0m     \u001b[39mif\u001b[39;00m \u001b[39mhasattr\u001b[39m(message_body, \u001b[39m'\u001b[39m\u001b[39mread\u001b[39m\u001b[39m'\u001b[39m):\n\u001b[1;32m   1017\u001b[0m         \u001b[39m# Let file-like take precedence over byte-like.  This\u001b[39;00m\n\u001b[1;32m   1018\u001b[0m         \u001b[39m# is needed to allow the current position of mmap'ed\u001b[39;00m\n\u001b[1;32m   1019\u001b[0m         \u001b[39m# files to be taken into account.\u001b[39;00m\n",
      "File \u001b[0;32m~/anaconda3/envs/lyf_Bio/lib/python3.8/http/client.py:951\u001b[0m, in \u001b[0;36mHTTPConnection.send\u001b[0;34m(self, data)\u001b[0m\n\u001b[1;32m    949\u001b[0m \u001b[39mif\u001b[39;00m \u001b[39mself\u001b[39m\u001b[39m.\u001b[39msock \u001b[39mis\u001b[39;00m \u001b[39mNone\u001b[39;00m:\n\u001b[1;32m    950\u001b[0m     \u001b[39mif\u001b[39;00m \u001b[39mself\u001b[39m\u001b[39m.\u001b[39mauto_open:\n\u001b[0;32m--> 951\u001b[0m         \u001b[39mself\u001b[39;49m\u001b[39m.\u001b[39;49mconnect()\n\u001b[1;32m    952\u001b[0m     \u001b[39melse\u001b[39;00m:\n\u001b[1;32m    953\u001b[0m         \u001b[39mraise\u001b[39;00m NotConnected()\n",
      "File \u001b[0;32m~/anaconda3/envs/lyf_Bio/lib/python3.8/http/client.py:1418\u001b[0m, in \u001b[0;36mHTTPSConnection.connect\u001b[0;34m(self)\u001b[0m\n\u001b[1;32m   1415\u001b[0m \u001b[39mdef\u001b[39;00m \u001b[39mconnect\u001b[39m(\u001b[39mself\u001b[39m):\n\u001b[1;32m   1416\u001b[0m     \u001b[39m\"\u001b[39m\u001b[39mConnect to a host on a given (SSL) port.\u001b[39m\u001b[39m\"\u001b[39m\n\u001b[0;32m-> 1418\u001b[0m     \u001b[39msuper\u001b[39;49m()\u001b[39m.\u001b[39;49mconnect()\n\u001b[1;32m   1420\u001b[0m     \u001b[39mif\u001b[39;00m \u001b[39mself\u001b[39m\u001b[39m.\u001b[39m_tunnel_host:\n\u001b[1;32m   1421\u001b[0m         server_hostname \u001b[39m=\u001b[39m \u001b[39mself\u001b[39m\u001b[39m.\u001b[39m_tunnel_host\n",
      "File \u001b[0;32m~/anaconda3/envs/lyf_Bio/lib/python3.8/http/client.py:922\u001b[0m, in \u001b[0;36mHTTPConnection.connect\u001b[0;34m(self)\u001b[0m\n\u001b[1;32m    920\u001b[0m \u001b[39mdef\u001b[39;00m \u001b[39mconnect\u001b[39m(\u001b[39mself\u001b[39m):\n\u001b[1;32m    921\u001b[0m     \u001b[39m\"\"\"Connect to the host and port specified in __init__.\"\"\"\u001b[39;00m\n\u001b[0;32m--> 922\u001b[0m     \u001b[39mself\u001b[39m\u001b[39m.\u001b[39msock \u001b[39m=\u001b[39m \u001b[39mself\u001b[39;49m\u001b[39m.\u001b[39;49m_create_connection(\n\u001b[1;32m    923\u001b[0m         (\u001b[39mself\u001b[39;49m\u001b[39m.\u001b[39;49mhost,\u001b[39mself\u001b[39;49m\u001b[39m.\u001b[39;49mport), \u001b[39mself\u001b[39;49m\u001b[39m.\u001b[39;49mtimeout, \u001b[39mself\u001b[39;49m\u001b[39m.\u001b[39;49msource_address)\n\u001b[1;32m    924\u001b[0m     \u001b[39mself\u001b[39m\u001b[39m.\u001b[39msock\u001b[39m.\u001b[39msetsockopt(socket\u001b[39m.\u001b[39mIPPROTO_TCP, socket\u001b[39m.\u001b[39mTCP_NODELAY, \u001b[39m1\u001b[39m)\n\u001b[1;32m    926\u001b[0m     \u001b[39mif\u001b[39;00m \u001b[39mself\u001b[39m\u001b[39m.\u001b[39m_tunnel_host:\n",
      "File \u001b[0;32m~/anaconda3/envs/lyf_Bio/lib/python3.8/socket.py:796\u001b[0m, in \u001b[0;36mcreate_connection\u001b[0;34m(address, timeout, source_address)\u001b[0m\n\u001b[1;32m    794\u001b[0m \u001b[39mif\u001b[39;00m source_address:\n\u001b[1;32m    795\u001b[0m     sock\u001b[39m.\u001b[39mbind(source_address)\n\u001b[0;32m--> 796\u001b[0m sock\u001b[39m.\u001b[39;49mconnect(sa)\n\u001b[1;32m    797\u001b[0m \u001b[39m# Break explicitly a reference cycle\u001b[39;00m\n\u001b[1;32m    798\u001b[0m err \u001b[39m=\u001b[39m \u001b[39mNone\u001b[39;00m\n",
      "\u001b[0;31mKeyboardInterrupt\u001b[0m: "
     ]
    }
   ],
   "source": [
    "# cellbin data\n",
    "cellbin_slices = st.sample_data.drosophila()\n",
    "\n",
    "# binning data\n",
    "# binning_slices = st.sample_data.drosophila(filename=\"E7-9h_bin20_h5ad.zip\")[3:7]"
   ]
  },
  {
   "cell_type": "code",
   "execution_count": null,
   "metadata": {},
   "outputs": [],
   "source": [
    "data_dir='../data/cellbin_h5ad'\n",
    "slices = [anndata.read_h5ad(os.path.join(data_dir, \"E8-10_b_S{:0>2d}.h5ad\".format(index))) for index in range(6,30)]"
   ]
  },
  {
   "cell_type": "code",
   "execution_count": null,
   "metadata": {},
   "outputs": [],
   "source": [
    "cellbin_slices_sample = [slice.copy() for slice in slices]\n",
    "align_cellbin_slices = st.tl.models_align(\n",
    "    models=cellbin_slices_sample,\n",
    "    spatial_key=\"spatial\",\n",
    "    key_added=\"align_spatial\",\n",
    "    numItermax=200,\n",
    "    numItermaxEmd=500000,\n",
    "    device=\"2\"\n",
    ")"
   ]
  },
  {
   "cell_type": "code",
   "execution_count": null,
   "metadata": {},
   "outputs": [],
   "source": [
    "%matplotlib inline\n",
    "st.pl.multi_slices(\n",
    "    slices=align_cellbin_slices.copy(),\n",
    "    slices_key=\"slices\",\n",
    "    spatial_key=\"align_spatial\",\n",
    "    point_size=50,\n",
    "    ax_height=0.6,\n",
    "    ncols=2,\n",
    ")"
   ]
  },
  {
   "attachments": {},
   "cell_type": "markdown",
   "metadata": {},
   "source": [
    "## 3D model"
   ]
  },
  {
   "cell_type": "code",
   "execution_count": null,
   "metadata": {},
   "outputs": [],
   "source": [
    "data_dir='../data/drosophila_data'\n",
    "slice_A = scanpy.read_h5ad(os.path.join(data_dir,'E7-9h_cellbin_tdr_v2.h5ad'))\n",
    "# slice_B = scanpy.read_h5ad(os.path.join(data_dir,'E9-10h_cellbin_tdr_v1.h5ad'))"
   ]
  },
  {
   "cell_type": "code",
   "execution_count": 2,
   "metadata": {},
   "outputs": [],
   "source": [
    "data_dir='../data/cellbin_3D'\n",
    "slice_A = scanpy.read_h5ad(os.path.join(data_dir,'E7-8h_cellbin_v1.h5ad'))\n",
    "# slice_B = scanpy.read_h5ad(os.path.join(data_dir,'E8-9h_cellbin_v1.h5ad'))"
   ]
  },
  {
   "cell_type": "code",
   "execution_count": 3,
   "metadata": {},
   "outputs": [
    {
     "data": {
      "text/plain": [
       "AnnData object with n_obs × n_vars = 15649 × 6868\n",
       "    obs: 'area', 'slices', 'Annotation_1_cell_type', 'Annotation_2_tissue', 'Annotation_3_germ_layer', 'actual_time'\n",
       "    uns: '__type'\n",
       "    obsm: 'X_pca', 'X_umap', 'align_spatial', 'bbox', 'contour', 'spatial', 'tdr_spatial'\n",
       "    layers: 'counts_X'"
      ]
     },
     "execution_count": 3,
     "metadata": {},
     "output_type": "execute_result"
    }
   ],
   "source": [
    "slice_A"
   ]
  },
  {
   "cell_type": "code",
   "execution_count": null,
   "metadata": {},
   "outputs": [],
   "source": [
    "slice_A.obs['Annotation_2_tissue']"
   ]
  },
  {
   "cell_type": "code",
   "execution_count": 4,
   "metadata": {},
   "outputs": [
    {
     "data": {
      "text/plain": [
       "pyvista DataSetAttributes\n",
       "Association     : POINT\n",
       "Active Scalars  : tissue_rgba\n",
       "Active Vectors  : None\n",
       "Active Texture  : None\n",
       "Active Normals  : None\n",
       "Contains arrays :\n",
       "    tissue_rgba             float32  (15649, 4)           SCALARS\n",
       "    tissue                  <U11     (15649,)\n",
       "    obs_index               <U18     (15649,)"
      ]
     },
     "execution_count": 4,
     "metadata": {},
     "output_type": "execute_result"
    }
   ],
   "source": [
    "tissue_colormap = {\n",
    "    \"CNS\": \"#5A2686\",\n",
    "    \"midgut\": \"#DC143C\",\n",
    "    \"amnioserosa\": \"#FFDD00\",\n",
    "    \"salivary gland\": \"#FFA500\",\n",
    "\n",
    "    \"epidermis\": \"#ADD8E6\",\n",
    "    \"muscle\": \"#1AAB27\",\n",
    "    \"trachea\": \"#7F90F0\",\n",
    "    \"hemolymph\": \"#CD5C5C\",\n",
    "    \"yolk\": \"#8B0000\",\n",
    "\n",
    "    \"mesoderm\": \"#CD5C5C\",\n",
    "    \"unknown\":\"#7F90F0\",\n",
    "}\n",
    "embryo_pc = st.tdr.construct_pc(\n",
    "    adata=slice_A.copy(),\n",
    "    spatial_key=\"align_spatial\",\n",
    "    groupby=\"Annotation_2_tissue\",\n",
    "    key_added=\"tissue\",\n",
    "    colormap=tissue_colormap,\n",
    ")\n",
    "embryo_pc.point_data"
   ]
  },
  {
   "cell_type": "code",
   "execution_count": 5,
   "metadata": {},
   "outputs": [
    {
     "ename": "",
     "evalue": "",
     "output_type": "error",
     "traceback": [
      "\u001b[1;31mCanceled future for execute_request message before replies were done"
     ]
    },
    {
     "ename": "",
     "evalue": "",
     "output_type": "error",
     "traceback": [
      "\u001b[1;31mThe Kernel crashed while executing code in the the current cell or a previous cell. Please review the code in the cell(s) to identify a possible cause of the failure. Click <a href='https://aka.ms/vscodeJupyterKernelCrash'>here</a> for more info. View Jupyter <a href='command:jupyter.viewOutput'>log</a> for further details."
     ]
    }
   ],
   "source": [
    "%matplotlib inline\n",
    "st.pl.three_d_plot(\n",
    "    model=embryo_pc,\n",
    "    key=\"tissue\",\n",
    "    model_style=\"points\",\n",
    "    model_size=3,\n",
    "    jupyter=\"static\",\n",
    "    window_size=(512, 512)\n",
    ")"
   ]
  },
  {
   "cell_type": "markdown",
   "metadata": {},
   "source": [
    "### Exact Alignment on CPU"
   ]
  },
  {
   "cell_type": "code",
   "execution_count": null,
   "metadata": {},
   "outputs": [],
   "source": [
    "i = 2\n",
    "BAS_slices = [slice.copy() for slice in slices]\n",
    "sliceA = BAS_slices[i]\n",
    "sliceB = BAS_slices[i + 1]\n",
    "align_model_A, align_model_B, P = morpho.morpho_align_pairwise(\n",
    "            model_ref=sliceA,\n",
    "            model=sliceB,\n",
    "            spatial_key=\"spatial\",\n",
    "            key_added=\"align_spatial\",\n",
    "            select_high_exp_genes=False,\n",
    "            normalize_c=True,\n",
    "            normalize_g=False,\n",
    "            mode=\"SN\",\n",
    "            device=\"2\",\n",
    "            max_iter=100,\n",
    "            dtype='float64',\n",
    "            beta2=0.1,\n",
    "            verbose=True,\n",
    "            iter_key_added='iter_spatial',\n",
    "            keep_size=True,\n",
    "        )"
   ]
  },
  {
   "cell_type": "code",
   "execution_count": null,
   "metadata": {},
   "outputs": [],
   "source": [
    "%matplotlib inline\n",
    "fig, ax = plt.subplots(1, 3,figsize=(30,5))\n",
    "plot_slices(align_model_A, align_model_B,ax,'align_spatial',slice_colors, 10)\n",
    "plt.tight_layout()\n",
    "plt.show()"
   ]
  },
  {
   "cell_type": "code",
   "execution_count": null,
   "metadata": {},
   "outputs": [],
   "source": [
    "BAS_slices = [slice.copy() for slice in slices]\n",
    "align_models = morpho.morpho_align(\n",
    "            models=BAS_slices,\n",
    "            spatial_key=\"spatial\",\n",
    "            key_added=\"align_spatial\",\n",
    "            iter_key_added='iter_spatial',\n",
    "            select_high_exp_genes=False,\n",
    "            normalize_c=True,\n",
    "            normalize_g=False,\n",
    "            mode=\"SN\",\n",
    "            device=\"2\",\n",
    "            max_iter=100,\n",
    "            dtype='float64',\n",
    "            beta2=0.1,\n",
    "            verbose=True,\n",
    "            )"
   ]
  },
  {
   "cell_type": "code",
   "execution_count": null,
   "metadata": {},
   "outputs": [],
   "source": [
    "morpho.two_d_pairwise_animate(\n",
    "    model_ref=align_model_A,\n",
    "    model=align_model_B,\n",
    "    fps=20\n",
    ")"
   ]
  },
  {
   "cell_type": "code",
   "execution_count": null,
   "metadata": {},
   "outputs": [],
   "source": [
    "%matplotlib inline\n",
    "fig, axs = plt.subplots(1, 3,figsize=(30,5))\n",
    "morpho.plot_pairewise_slices(\n",
    "    sliceA_align=align_model_A,\n",
    "    sliceB_align=align_model_B,\n",
    "    axs = axs,\n",
    "    spatial_key='spatial',\n",
    "    )\n"
   ]
  },
  {
   "cell_type": "code",
   "execution_count": null,
   "metadata": {},
   "outputs": [],
   "source": [
    "%matplotlib auto\n",
    "i = 9\n",
    "BAS_slices = [slice.copy() for slice in slices]\n",
    "sliceA = BAS_slices[i]\n",
    "sliceB = BAS_slices[i + 1]\n",
    "align_models = morpho.morpho_align(\n",
    "            models=BAS_slices,\n",
    "            spatial_key=\"spatial\",\n",
    "            key_added=\"align_spatial\",\n",
    "            select_high_exp_genes=False,\n",
    "            normalize_c=True,\n",
    "            normalize_g=False,\n",
    "            mode=\"SN\",\n",
    "            device=\"2\",\n",
    "            max_iter=100,\n",
    "            dtype='float64',\n",
    "            beta2=0.1,\n",
    "            verbose=True,\n",
    "            )"
   ]
  },
  {
   "cell_type": "code",
   "execution_count": null,
   "metadata": {},
   "outputs": [],
   "source": [
    "BAS_slices = [slice.copy() for slice in slices]\n",
    "align_models, coarse_align_models = morpho.morpho_align_global(\n",
    "            models=BAS_slices,\n",
    "            spatial_key=\"spatial\",\n",
    "            key_added=\"align_spatial\",\n",
    "            select_high_exp_genes=False,\n",
    "            normalize_c=True,\n",
    "            normalize_g=False,\n",
    "            mode=\"SN\",\n",
    "            device=\"2\",\n",
    "            max_iter=100,\n",
    "            dtype='float64',\n",
    "            beta2=0.1,\n",
    "            verbose=True,\n",
    "            )"
   ]
  },
  {
   "cell_type": "code",
   "execution_count": null,
   "metadata": {},
   "outputs": [],
   "source": [
    "%matplotlib inline\n",
    "fig, axs = plt.subplots(len(coarse_align_models)-1, 3,figsize=(15,(len(coarse_align_models)-1)*3))\n",
    "for i in range(len(coarse_align_models)-1):\n",
    "    sliceA = coarse_align_models[i]\n",
    "    sliceB = coarse_align_models[i + 1]\n",
    "    plot_slices(sliceA, sliceB,axs[i],'align_spatial',slice_colors,5)\n",
    "plt.tight_layout()\n",
    "plt.show()\n"
   ]
  },
  {
   "cell_type": "code",
   "execution_count": null,
   "metadata": {},
   "outputs": [],
   "source": [
    "%matplotlib inline\n",
    "fig, axs = plt.subplots(len(align_models)-1, 3,figsize=(15,(len(align_models)-1)*3))\n",
    "for i in range(len(align_models)-1):\n",
    "    sliceA = align_models[i]\n",
    "    sliceB = align_models[i + 1]\n",
    "    plot_slices(sliceA, sliceB,axs[i],'align_spatial',slice_colors,20)\n"
   ]
  },
  {
   "cell_type": "code",
   "execution_count": null,
   "metadata": {},
   "outputs": [],
   "source": [
    "%matplotlib inline\n",
    "fig, axs = plt.subplots(len(coarse_align_models)-1, 3,figsize=(15,(len(coarse_align_models)-1)*3))\n",
    "for i in range(len(coarse_align_models)-1):\n",
    "    sliceA = coarse_align_models[i]\n",
    "    sliceB = coarse_align_models[i + 1]\n",
    "    plot_slices(sliceA, sliceB,axs[i],'align_spatial',slice_colors,20)\n"
   ]
  },
  {
   "cell_type": "code",
   "execution_count": null,
   "metadata": {},
   "outputs": [],
   "source": [
    "%matplotlib inline\n",
    "morpho.plot_multi_slices(\n",
    "    align_models,\n",
    "    spatial_key='align_spatial'\n",
    "    )\n"
   ]
  },
  {
   "cell_type": "code",
   "execution_count": null,
   "metadata": {},
   "outputs": [],
   "source": [
    "align_models_PASTE = morpho.models_align(\n",
    "        models=BAS_slices,\n",
    "        spatial_key=\"spatial\",\n",
    "        key_added=\"align_spatial\",\n",
    "        device='0',\n",
    "    )"
   ]
  },
  {
   "cell_type": "code",
   "execution_count": null,
   "metadata": {},
   "outputs": [],
   "source": [
    "%matplotlib inline\n",
    "morpho.plot_multi_slices(\n",
    "    align_models_PASTE,\n",
    "    spatial_key='align_spatial'\n",
    "    )\n"
   ]
  },
  {
   "cell_type": "code",
   "execution_count": null,
   "metadata": {},
   "outputs": [],
   "source": [
    "%matplotlib inline\n",
    "fig, ax = plt.subplots(1, 3,figsize=(30,5))\n",
    "plot_slices(align_models[0], align_models[1],ax,'align_spatial',slice_colors, 10)\n",
    "plt.tight_layout()\n",
    "plt.show()"
   ]
  },
  {
   "cell_type": "code",
   "execution_count": null,
   "metadata": {},
   "outputs": [],
   "source": [
    "BAS_slices = [slice.copy() for slice in slices]\n",
    "%matplotlib inline\n",
    "fig, axs = plt.subplots(len(slices)-1, 3,figsize=(15,(len(slices)-1)*3))\n",
    "for i in range(len(slices)-1):\n",
    "    sliceA = BAS_slices[i]\n",
    "    sliceB = BAS_slices[i + 1]\n",
    "    sliceA_align, sliceB_align, P = morpho.morpho_align_pairwise(\n",
    "                model=sliceA,\n",
    "                model_ref=sliceB,\n",
    "                spatial_key=\"spatial\",\n",
    "                key_added=\"align_spatial\",\n",
    "                select_high_exp_genes=False,\n",
    "                normalize_c=True,\n",
    "                normalize_g=False,\n",
    "                mode=\"SN\",\n",
    "                max_iter=100,\n",
    "                vis_optimiation=False,\n",
    "                print_info=False,\n",
    "                use_gpu = True,\n",
    "                use_SVI = False,\n",
    "                batch_size_param = 100,\n",
    "                beta = 0.05,\n",
    "                beta2 = 0.1,\n",
    "                lambdaVF = 1e2,\n",
    "                )\n",
    "    plot_slices(sliceA_align, sliceB_align,axs[i],'align_spatial',slice_colors,20)\n"
   ]
  },
  {
   "cell_type": "markdown",
   "metadata": {},
   "source": [
    "### Alignment with SVI on CPU"
   ]
  },
  {
   "cell_type": "code",
   "execution_count": null,
   "metadata": {},
   "outputs": [],
   "source": [
    "%matplotlib auto\n",
    "sliceA_align_SVI, sliceB_align_SVI, P = morpho.morpho_align_pairwise(\n",
    "            model=sliceA,\n",
    "            model_ref=sliceB,\n",
    "            spatial_key=\"spatial\",\n",
    "            key_added=\"align_spatial\",\n",
    "            select_high_exp_genes=False,\n",
    "            normalize_c=True,\n",
    "            normalize_g=True,\n",
    "            mode=\"SN\",\n",
    "            max_iter=100,\n",
    "            vis_optimiation=False,\n",
    "            print_info=True,\n",
    "            use_gpu = False,\n",
    "            use_SVI = True,\n",
    "            batch_size_param = 100,\n",
    "            beta = 0.05,\n",
    "            )\n"
   ]
  },
  {
   "cell_type": "markdown",
   "metadata": {},
   "source": [
    "### Exact Alignment on GPU"
   ]
  },
  {
   "cell_type": "code",
   "execution_count": null,
   "metadata": {},
   "outputs": [],
   "source": [
    "%matplotlib auto\n",
    "sliceA_align_GPU, sliceB_align_GPU, P = morpho.morpho_align_pairwise(\n",
    "            model=sliceA,\n",
    "            model_ref=sliceB,\n",
    "            spatial_key=\"spatial\",\n",
    "            key_added=\"align_spatial\",\n",
    "            select_high_exp_genes=False,\n",
    "            normalize_c=True,\n",
    "            normalize_g=True,\n",
    "            mode=\"SN\",\n",
    "            max_iter=100,\n",
    "            vis_optimiation=True,\n",
    "            print_info=True,\n",
    "            use_gpu = True,\n",
    "            use_SVI = False,\n",
    "            batch_size_param = 100,\n",
    "            beta = 0.05,\n",
    "            )\n"
   ]
  },
  {
   "cell_type": "markdown",
   "metadata": {},
   "source": [
    "### Alignment with SVI on GPU"
   ]
  },
  {
   "cell_type": "code",
   "execution_count": null,
   "metadata": {},
   "outputs": [],
   "source": [
    "%matplotlib auto\n",
    "sliceA_align_GPU_SVI, sliceB_align_GPU_SVI, P = morpho.morpho_align_pairwise(\n",
    "            model=sliceA,\n",
    "            model_ref=sliceB,\n",
    "            spatial_key=\"spatial\",\n",
    "            key_added=\"align_spatial\",\n",
    "            select_high_exp_genes=False,\n",
    "            normalize_c=True,\n",
    "            normalize_g=True,\n",
    "            mode=\"SN\",\n",
    "            max_iter=100,\n",
    "            vis_optimiation=False,\n",
    "            print_info=True,\n",
    "            use_gpu = True,\n",
    "            use_SVI = True,\n",
    "            batch_size_param = 100,\n",
    "            beta = 0.05,\n",
    "            )\n"
   ]
  },
  {
   "cell_type": "markdown",
   "metadata": {},
   "source": [
    "### Paste on GPU"
   ]
  },
  {
   "cell_type": "code",
   "execution_count": null,
   "metadata": {},
   "outputs": [],
   "source": [
    "import paste as pst\n",
    "import ot\n",
    "import time\n",
    "sliceA_paste, sliceB_paste = slices[i].copy(), slices[i+1].copy()\n",
    "t1 = time.time()\n",
    "pi = pst.pairwise_align(sliceA_paste, sliceB_paste, use_gpu=True,backend = ot.backend.TorchBackend())\n",
    "# pi = pst.pairwise_align(sliceA_paste, sliceB_paste, use_gpu=False)\n",
    "pis = [pi]\n",
    "new_slices = pst.stack_slices_pairwise([sliceA_paste, sliceB_paste], pis)\n",
    "t2 = time.time()\n",
    "print(\"Paste costs {:.5} s\".format(t2-t1))"
   ]
  },
  {
   "cell_type": "code",
   "execution_count": null,
   "metadata": {},
   "outputs": [],
   "source": []
  }
 ],
 "metadata": {
  "kernelspec": {
   "display_name": "lyf_Bio",
   "language": "python",
   "name": "python3"
  },
  "language_info": {
   "codemirror_mode": {
    "name": "ipython",
    "version": 3
   },
   "file_extension": ".py",
   "mimetype": "text/x-python",
   "name": "python",
   "nbconvert_exporter": "python",
   "pygments_lexer": "ipython3",
   "version": "3.8.13"
  },
  "orig_nbformat": 4,
  "vscode": {
   "interpreter": {
    "hash": "f5d92fb97f177c6411b9fa812e4f4f02383edeb000bcad2fcccdd48549872cb5"
   }
  }
 },
 "nbformat": 4,
 "nbformat_minor": 2
}
